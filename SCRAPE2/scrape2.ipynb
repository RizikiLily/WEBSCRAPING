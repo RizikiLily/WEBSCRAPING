{
 "cells": [
  {
   "cell_type": "markdown",
   "metadata": {},
   "source": [
    "WEBSCRAPING"
   ]
  },
  {
   "cell_type": "code",
   "execution_count": 3,
   "metadata": {},
   "outputs": [],
   "source": [
    "import urllib.request, urllib.parse, urllib.error\n",
    "from bs4 import BeautifulSoup\n",
    "import ssl\n",
    "\n"
   ]
  },
  {
   "cell_type": "code",
   "execution_count": 4,
   "metadata": {},
   "outputs": [],
   "source": [
    "#ignore ssl certification errors\n",
    "ctx = ssl.create_default_context()\n",
    "ctx.check_hostname = False\n",
    "ctx.verify_mode = ssl.CERT_NONE"
   ]
  },
  {
   "cell_type": "code",
   "execution_count": null,
   "metadata": {},
   "outputs": [
    {
     "name": "stdout",
     "output_type": "stream",
     "text": [
      "Montgomery\n",
      "Mhairade\n",
      "Butchi\n",
      "Anayah\n"
     ]
    }
   ],
   "source": [
    "url = input('Enter the link: ')\n",
    "position = input(\"Position of link to follow: \")\n",
    "times = input(\"How many time do you want to do this: \")\n",
    "print(url)\n",
    "\n",
    "\n",
    "i = 1\n",
    "while i <= int(times):\n",
    "    html = urllib.request.urlopen(url).read()\n",
    "    soup = BeautifulSoup(html,'html.parser')\n",
    "    tags = soup('a')\n",
    "    url = tags[int(position) - 1]\n",
    "    print(url.text)\n",
    "    url = url.get(\"href\", None)\n",
    "    #print(url)\n",
    "    i += 1\n",
    "        \n",
    "#print(html.text)\n",
    "\n",
    "#for tag in tags:\n",
    "    #print(tag.get('href', None))\n",
    "    #print(tag.text)"
   ]
  }
 ],
 "metadata": {
  "kernelspec": {
   "display_name": "base",
   "language": "python",
   "name": "python3"
  },
  "language_info": {
   "codemirror_mode": {
    "name": "ipython",
    "version": 3
   },
   "file_extension": ".py",
   "mimetype": "text/x-python",
   "name": "python",
   "nbconvert_exporter": "python",
   "pygments_lexer": "ipython3",
   "version": "3.11.5"
  }
 },
 "nbformat": 4,
 "nbformat_minor": 2
}
